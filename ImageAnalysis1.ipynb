{
 "cells": [
  {
   "cell_type": "markdown",
   "metadata": {},
   "source": [
    "##### Imports"
   ]
  },
  {
   "cell_type": "code",
   "execution_count": null,
   "metadata": {},
   "outputs": [],
   "source": [
    "import numpy as np\n",
    "import keras\n",
    "from matplotlib import pyplot as plt\n",
    "from sklearn.model_selection import train_test_split\n",
    "from sklearn.metrics import f1_score, confusion_matrix, ConfusionMatrixDisplay\n",
    "from imblearn.over_sampling import RandomOverSampler, SMOTE\n",
    "from imblearn.combine import SMOTETomek\n",
    "from imblearn.under_sampling import RandomUnderSampler\n",
    "from keras import backend as K\n",
    "from keras.utils import to_categorical\n",
    "from keras.models import Sequential, load_model\n",
    "from keras import layers\n",
    "from keras.layers import Dense, Conv2D, Flatten, Dropout, MaxPooling2D"
   ]
  },
  {
   "cell_type": "markdown",
   "metadata": {},
   "source": [
    "#### Image visualization"
   ]
  },
  {
   "cell_type": "code",
   "execution_count": null,
   "metadata": {},
   "outputs": [],
   "source": [
    "def showImages(images, labels, offset=0):\n",
    "    class_names = ['Spots', 'Eyespots']\n",
    "\n",
    "    fig = plt.figure(figsize=(10, 10))\n",
    "    for i in range(16):\n",
    "        plt.subplot(4, 4, i+1)\n",
    "        plt.xticks([])\n",
    "        plt.yticks([])\n",
    "        plt.grid(False)\n",
    "        plt.imshow(images[i + offset])\n",
    "        plt.xlabel(class_names[labels[i+offset]])\n",
    "\n",
    "    fig.patch.set_facecolor('w')\n",
    "    plt.show()\n",
    "\n",
    "def rgb2gray(rgb):\n",
    "    return np.dot(rgb[...,:3], [0.299, 0.587, 0.114])\n",
    "\n",
    "def showImagesGray(images, labels, offset=0):\n",
    "    class_names = ['Spots', 'Eyespots']\n",
    "\n",
    "    fig = plt.figure(figsize=(10, 10))\n",
    "    for i in range(16):\n",
    "        plt.subplot(4, 4, i+1)\n",
    "        plt.xticks([])\n",
    "        plt.yticks([])\n",
    "        plt.grid(False)\n",
    "        plt.imshow(images[i + offset], cmap=\"gray\")\n",
    "        plt.xlabel(class_names[labels[i+offset]])\n",
    "\n",
    "    fig.patch.set_facecolor('w')\n",
    "    plt.show()"
   ]
  },
  {
   "cell_type": "markdown",
   "metadata": {},
   "source": [
    "#### F1 score"
   ]
  },
  {
   "cell_type": "code",
   "execution_count": null,
   "metadata": {},
   "outputs": [],
   "source": [
    "def recall_m(y_true, y_pred):\n",
    "    true_positives = K.sum(K.round(K.clip(y_true * y_pred, 0, 1)))\n",
    "    possible_positives = K.sum(K.round(K.clip(y_true, 0, 1)))\n",
    "    recall = true_positives / (possible_positives + K.epsilon())\n",
    "    return recall\n",
    "\n",
    "def precision_m(y_true, y_pred):\n",
    "    true_positives = K.sum(K.round(K.clip(y_true * y_pred, 0, 1)))\n",
    "    predicted_positives = K.sum(K.round(K.clip(y_pred, 0, 1)))\n",
    "    precision = true_positives / (predicted_positives + K.epsilon())\n",
    "    return precision\n",
    "\n",
    "def f1_m(y_true, y_pred):\n",
    "    precision = precision_m(y_true, y_pred)\n",
    "    recall = recall_m(y_true, y_pred)\n",
    "    return 2*((precision*recall)/(precision+recall+K.epsilon()))"
   ]
  },
  {
   "cell_type": "markdown",
   "metadata": {},
   "source": [
    "### Loading data"
   ]
  },
  {
   "cell_type": "code",
   "execution_count": null,
   "metadata": {},
   "outputs": [],
   "source": [
    "data_x = np.load('Xtrain_Classification1.npy')\n",
    "data_y = np.load('ytrain_Classification1.npy')\n",
    "\n",
    "print(data_y.shape)\n",
    "\n",
    "print(f\"Data X: {data_x.shape[0]} images of shape: {data_x.shape[1:]}\")\n",
    "\n",
    "# Number of spots\n",
    "print(f\"Number of spots: {np.sum(data_y)}\")\n",
    "\n",
    "# Number of eyespots\n",
    "print(f\"Number of eyespots: {data_y.shape[0] - np.sum(data_y)}\")\n",
    "\n",
    "# Split the data into training and test sets\n",
    "\n",
    "x_train, x_validation, y_train, y_validation = train_test_split(data_x, data_y, test_size=0.2, random_state=42)"
   ]
  },
  {
   "cell_type": "markdown",
   "metadata": {},
   "source": [
    "### Preprocessing"
   ]
  },
  {
   "cell_type": "markdown",
   "metadata": {},
   "source": [
    "### Reshape data"
   ]
  },
  {
   "cell_type": "code",
   "execution_count": null,
   "metadata": {},
   "outputs": [],
   "source": [
    "# # Reshaping to 30x30x3 for 30x30 RGB images\n",
    "\n",
    "# x_train_over = x_train_over.reshape(x_train_over.shape[0], 30, 30, 3)\n",
    "# x_train_under = x_train_under.reshape(x_train_under.shape[0], 30, 30, 3)\n",
    "\n",
    "# x_validation = x_validation.reshape(x_validation.shape[0], 30, 30, 3)\n",
    "\n",
    "# print(\"\\nOver-sampled data:\")\n",
    "# print(f\"Training set: {x_train_over.shape[0]} images of shape: {x_train_over.shape[1:]}\")\n",
    "\n",
    "# print(\"\\nUnder-sampled data:\")\n",
    "# print(f\"Training set: {x_train_under.shape[0]} images of shape: {x_train_under.shape[1:]}\")\n",
    "\n",
    "# print(f\"Validation set: {x_validation.shape[0]} images of shape: {x_validation.shape[1:]}\")\n",
    "\n",
    "# # Checking classifcation of images\n",
    "\n",
    "# showImages(x_train_over, y_train_over, 0)\n",
    "\n",
    "x_train = x_train.reshape(x_train.shape[0], 30, 30, 3)\n",
    "x_validation = x_validation.reshape(x_validation.shape[0], 30, 30, 3)"
   ]
  },
  {
   "cell_type": "markdown",
   "metadata": {},
   "source": [
    "### Turn images to grayscale"
   ]
  },
  {
   "cell_type": "code",
   "execution_count": null,
   "metadata": {},
   "outputs": [],
   "source": [
    "x_train = rgb2gray(x_train)\n",
    "x_validation = rgb2gray(x_validation)\n",
    "\n",
    "# Reshape the images to 1D\n",
    "\n",
    "x_train = x_train.reshape(x_train.shape[0], 30*30*1)\n",
    "x_validation = x_validation.reshape(x_validation.shape[0], 30*30*1)\n",
    "\n",
    "# # Turn images to grayscale\n",
    "\n",
    "# x_train_over = rgb2gray(x_train_over)\n",
    "# x_train_under = rgb2gray(x_train_under)\n",
    "\n",
    "# x_validation = rgb2gray(x_validation)\n",
    "\n",
    "# # Reshape the images to 3D\n",
    "\n",
    "# x_train_over = x_train_over.reshape(x_train_over.shape[0], 30, 30, 1)\n",
    "# x_train_under = x_train_under.reshape(x_train_under.shape[0], 30, 30, 1)\n",
    "\n",
    "# x_validation = x_validation.reshape(x_validation.shape[0], 30, 30, 1)"
   ]
  },
  {
   "cell_type": "markdown",
   "metadata": {},
   "source": [
    "### Dealing with imbalanced data"
   ]
  },
  {
   "cell_type": "code",
   "execution_count": null,
   "metadata": {},
   "outputs": [],
   "source": [
    "# Random oversampling\n",
    "\n",
    "smote = SMOTE(sampling_strategy='minority', random_state=42)\n",
    "x_train_over, y_train_over = smote.fit_resample(x_train, y_train)\n",
    "\n",
    "print(\"\\nOver-sampled data:\")\n",
    "print(f\"Data X: {x_train_over.shape[0]} images of shape: {x_train.shape[1:]}\")\n",
    "\n",
    "# Number of spots\n",
    "print(f\"Number of spots: {np.sum(y_train_over)}\")\n",
    "\n",
    "# Number of eyespots\n",
    "print(f\"Number of eyespots: {y_train_over.shape[0] - np.sum(y_train_over)}\")\n",
    "\n",
    "# Random undersampling\n",
    "\n",
    "rus = RandomUnderSampler(sampling_strategy='majority', random_state=42)\n",
    "x_train_under, y_train_under = rus.fit_resample(x_train, y_train)\n",
    "\n",
    "print(\"\\nUnder-sampled data:\")\n",
    "print(f\"Data X: {x_train_under.shape[0]} images of shape: {x_train.shape[1:]}\")\n",
    "\n",
    "# Number of spots\n",
    "print(f\"Number of spots: {np.sum(y_train_under)}\")\n",
    "\n",
    "# Number of eyespots\n",
    "print(f\"Number of eyespots: {y_train_under.shape[0] - np.sum(y_train_under)}\")\n",
    "\n",
    "# Reshaping to 30x30x1 for 30x30 grayscale images\n",
    "\n",
    "x_train_over = x_train_over.reshape(x_train_over.shape[0], 30, 30, 1)\n",
    "x_train_under = x_train_under.reshape(x_train_under.shape[0], 30, 30, 1)\n",
    "\n",
    "x_validation = x_validation.reshape(x_validation.shape[0], 30, 30, 1)\n",
    "\n",
    "# Show some images\n",
    "\n",
    "showImagesGray(x_train_over, y_train_over, 0)\n"
   ]
  },
  {
   "cell_type": "markdown",
   "metadata": {},
   "source": [
    "### Normalization"
   ]
  },
  {
   "cell_type": "code",
   "execution_count": null,
   "metadata": {},
   "outputs": [],
   "source": [
    "# Normalizing the data\n",
    "# Making sure that values are float\n",
    "\n",
    "x_train_over = x_train_over.astype('float32')\n",
    "x_train_under = x_train_under.astype('float32')\n",
    "\n",
    "x_validation = x_validation.astype('float32')\n",
    "\n",
    "# Normalizing the RGB codes by dividing it to the max RGB value\n",
    "\n",
    "x_train_over = x_train_over / 255\n",
    "x_train_under = x_train_under / 255\n",
    "\n",
    "x_validation = x_validation / 255\n"
   ]
  },
  {
   "cell_type": "markdown",
   "metadata": {},
   "source": [
    "### One-hot encoding"
   ]
  },
  {
   "cell_type": "code",
   "execution_count": null,
   "metadata": {},
   "outputs": [],
   "source": [
    "# One-hot encoding\n",
    "\n",
    "y_train_over = to_categorical(y_train_over)\n",
    "y_train_under = to_categorical(y_train_under)\n",
    "\n",
    "y_validation = to_categorical(y_validation)\n",
    "\n",
    "# check amount of data in each class\n",
    "\n",
    "print(\"\\nOver-sampled data:\")\n",
    "print(f\"Spots: {np.sum(y_train_over[:, 0])}\")\n",
    "print(f\"Eyespots: {np.sum(y_train_over[:, 1])}\")\n",
    "\n",
    "print(\"\\nUnder-sampled data:\")\n",
    "print(f\"Spots: {np.sum(y_train_under[:, 0])}\")\n",
    "print(f\"Eyespots: {np.sum(y_train_under[:, 1])}\")"
   ]
  },
  {
   "cell_type": "markdown",
   "metadata": {},
   "source": [
    "# Image analysis"
   ]
  },
  {
   "cell_type": "markdown",
   "metadata": {},
   "source": [
    "## CNN"
   ]
  },
  {
   "cell_type": "code",
   "execution_count": null,
   "metadata": {},
   "outputs": [],
   "source": [
    "batch_size = 128\n",
    "epochs = 200\n",
    "num_classes = 2\n",
    "input_shape = (30, 30, 1)"
   ]
  },
  {
   "cell_type": "markdown",
   "metadata": {},
   "source": [
    "### Model Construction"
   ]
  },
  {
   "cell_type": "markdown",
   "metadata": {},
   "source": [
    "#### Image Augmentation layer"
   ]
  },
  {
   "cell_type": "code",
   "execution_count": null,
   "metadata": {},
   "outputs": [],
   "source": [
    "data_augmentation = Sequential([\n",
    "    layers.RandomFlip(\"horizontal_and_vertical\", input_shape=input_shape),\n",
    "    layers.RandomRotation(0.2)\n",
    "])"
   ]
  },
  {
   "cell_type": "markdown",
   "metadata": {},
   "source": [
    "### Model with oversampling"
   ]
  },
  {
   "cell_type": "code",
   "execution_count": null,
   "metadata": {},
   "outputs": [],
   "source": [
    "model_over = Sequential()\n",
    "\n",
    "# Convolutional and pooling layers\n",
    "\n",
    "model_over.add(data_augmentation)\n",
    "\n",
    "model_over.add(Conv2D(32, kernel_size=(3, 3), activation='relu', input_shape=input_shape))\n",
    "\n",
    "model_over.add(Dropout(0.1))\n",
    "\n",
    "model_over.add(MaxPooling2D(pool_size=(2, 2)))\n",
    "\n",
    "model_over.add(Conv2D(64, kernel_size=(3, 3), activation='relu'))\n",
    "\n",
    "model_over.add(Dropout(0.2))\n",
    "\n",
    "model_over.add(MaxPooling2D(pool_size=(2, 2)))\n",
    "\n",
    "model_over.add(Conv2D(128, kernel_size=(3, 3), activation='relu', input_shape=input_shape))\n",
    "\n",
    "model_over.add(Dropout(0.3))\n",
    "\n",
    "model_over.add(MaxPooling2D(pool_size=(2, 2)))\n",
    "\n",
    "# Fully connected layers\n",
    "\n",
    "model_over.add(Flatten())\n",
    "\n",
    "model_over.add(Dense(128, activation='relu'))\n",
    "\n",
    "model_over.add(Dropout(0.1))\n",
    "\n",
    "model_over.add(Dense(64, activation='relu'))\n",
    "\n",
    "model_over.add(Dropout(0.25))\n",
    "\n",
    "model_over.add(Dense(num_classes, activation='sigmoid'))\n",
    "\n",
    "model_over.summary()"
   ]
  },
  {
   "cell_type": "markdown",
   "metadata": {},
   "source": [
    "### Model with undersampling"
   ]
  },
  {
   "cell_type": "code",
   "execution_count": null,
   "metadata": {},
   "outputs": [],
   "source": [
    "model_under = Sequential()\n",
    "\n",
    "# Convolutional and pooling layers\n",
    "\n",
    "model_under.add(data_augmentation)\n",
    "\n",
    "model_under.add(Conv2D(32, kernel_size=(3, 3), activation='relu', input_shape=input_shape))\n",
    "\n",
    "model_under.add(Dropout(0.1))\n",
    "\n",
    "model_under.add(MaxPooling2D(pool_size=(2, 2)))\n",
    "\n",
    "model_under.add(Conv2D(64, kernel_size=(3, 3), activation='relu'))\n",
    "\n",
    "model_under.add(Dropout(0.2))\n",
    "\n",
    "model_under.add(MaxPooling2D(pool_size=(2, 2)))\n",
    "\n",
    "model_under.add(Conv2D(128, kernel_size=(3, 3), activation='relu', input_shape=input_shape))\n",
    "\n",
    "model_under.add(Dropout(0.3))\n",
    "\n",
    "model_under.add(MaxPooling2D(pool_size=(2, 2)))\n",
    "\n",
    "# Fully connected layers\n",
    "\n",
    "model_under.add(Flatten())\n",
    "\n",
    "model_under.add(Dense(128, activation='relu'))\n",
    "\n",
    "model_under.add(Dropout(0.1))\n",
    "\n",
    "model_under.add(Dense(64, activation='relu'))\n",
    "\n",
    "model_under.add(Dropout(0.25))\n",
    "\n",
    "model_under.add(Dense(num_classes, activation='sigmoid'))\n",
    "\n",
    "model_under.summary()"
   ]
  },
  {
   "cell_type": "markdown",
   "metadata": {},
   "source": [
    "### Compile and train the models"
   ]
  },
  {
   "cell_type": "code",
   "execution_count": null,
   "metadata": {},
   "outputs": [],
   "source": [
    "model_over.compile(loss=keras.losses.categorical_crossentropy, optimizer='adam', metrics=['accuracy', f1_m])\n",
    "\n",
    "history_over = model_over.fit(x_train_over, y_train_over, \n",
    "        batch_size=batch_size, \n",
    "        epochs=epochs, \n",
    "        verbose=1, \n",
    "        validation_data=(x_validation, y_validation), \n",
    "        callbacks=[keras.callbacks.EarlyStopping(monitor='val_loss', patience=10, restore_best_weights=True)])"
   ]
  },
  {
   "cell_type": "code",
   "execution_count": null,
   "metadata": {},
   "outputs": [],
   "source": [
    "model_under.compile(loss=keras.losses.categorical_crossentropy, optimizer='adam', metrics=['accuracy', f1_m])\n",
    "\n",
    "history_under = model_under.fit(x_train_under, y_train_under, \n",
    "        batch_size=batch_size, \n",
    "        epochs=epochs, \n",
    "        verbose=1, \n",
    "        validation_data=(x_validation, y_validation),\n",
    "        callbacks=[keras.callbacks.EarlyStopping(monitor='val_loss', patience=10, restore_best_weights=True)])"
   ]
  },
  {
   "cell_type": "markdown",
   "metadata": {},
   "source": [
    "## Visualize the Results"
   ]
  },
  {
   "cell_type": "code",
   "execution_count": null,
   "metadata": {},
   "outputs": [],
   "source": [
    "# F1 score\n",
    "\n",
    "y_pred_over = model_over.predict(x_validation)\n",
    "y_pred_over = np.argmax(y_pred_over, axis=1)\n",
    "\n",
    "y_pred_under = model_under.predict(x_validation)\n",
    "y_pred_under = np.argmax(y_pred_under, axis=1)\n",
    "\n",
    "y_true = np.argmax(y_validation, axis=1)\n",
    "\n",
    "plt.figure(figsize=(10, 10))\n",
    "\n",
    "plt.subplot(2, 1, 1)\n",
    "plt.title('Over-sampled data')\n",
    "plt.plot(history_over.history['accuracy'], label='Training accuracy')\n",
    "plt.plot(history_over.history['loss'], label='Training loss')\n",
    "plt.plot(history_over.history['val_accuracy'], label='Validation accuracy')\n",
    "plt.plot(history_over.history['val_loss'], label='Validation loss')\n",
    "plt.plot(history_over.history['f1_m'], label='Training F1 score')\n",
    "plt.plot(history_over.history['val_f1_m'], label='Validation F1 score')\n",
    "plt.xlabel('Epoch')\n",
    "plt.legend(loc='best')\n",
    "\n",
    "plt.subplot(2, 1, 2)\n",
    "plt.title('Under-sampled data')\n",
    "plt.plot(history_under.history['accuracy'], label='Training accuracy')\n",
    "plt.plot(history_under.history['loss'], label='Training loss')\n",
    "plt.plot(history_under.history['val_accuracy'], label='Validation accuracy')\n",
    "plt.plot(history_under.history['val_loss'], label='Validation loss')\n",
    "plt.plot(history_under.history['f1_m'], label='Training F1 score')\n",
    "plt.plot(history_under.history['val_f1_m'], label='Validation F1 score')\n",
    "plt.xlabel('Epoch')\n",
    "plt.legend(loc='best')\n",
    "\n",
    "validation_loss_over, validation_accuracy_over, f1_score_over = model_over.evaluate(x_validation, y_validation, verbose=0)\n",
    "validation_loss_under, validation_accuracy_under, f1_score_under = model_under.evaluate(x_validation, y_validation, verbose=0)\n",
    "\n",
    "print(\"Over-sampled data: Validation loss: {:.2f}, Validation accuracy: {:.2f}, F1 Score: {:.2f}\".format(validation_loss_over, validation_accuracy_over, f1_score_over))\n",
    "print(\"Under-sampled data: Validation loss: {:.2f}, Validation accuracy: {:.2f}, F1 Score: {:.2f}\".format(validation_loss_under, validation_accuracy_under, f1_score_under))\n",
    "\n",
    "print(f1_score(y_true, y_pred_over, average='macro'))\n",
    "\n",
    "# plot confusion matrix\n",
    "\n",
    "cm_over = confusion_matrix(y_true, y_pred_over)\n",
    "disp = ConfusionMatrixDisplay(confusion_matrix=cm_over)\n",
    "disp.plot()\n",
    "plt.show()\n",
    "\n",
    "cm_under = confusion_matrix(y_true, y_pred_under)\n",
    "disp = ConfusionMatrixDisplay(confusion_matrix=cm_under)\n",
    "disp.plot()\n",
    "plt.show()"
   ]
  },
  {
   "cell_type": "code",
   "execution_count": null,
   "metadata": {},
   "outputs": [],
   "source": [
    "data_x = data_x.reshape(data_x.shape[0], 30, 30, 3)\n",
    "data_y = to_categorical(data_y, num_classes)\n",
    "\n",
    "data_x = rgb2gray(data_x)\n",
    "data_x = data_x.reshape(data_x.shape[0], 30, 30, 1)\n",
    "\n",
    "data_x = data_x.astype('float32')\n",
    "data_x /= 255"
   ]
  },
  {
   "cell_type": "code",
   "execution_count": null,
   "metadata": {},
   "outputs": [],
   "source": [
    "# test entire dataset\n",
    "\n",
    "loss_over, accuracy_over, f1_score_over = model_over.evaluate(data_x, data_y, verbose=0)\n",
    "loss_under, accuracy_under, f1_score_under = model_under.evaluate(data_x, data_y, verbose=0)\n",
    "\n",
    "print(\"Over-sampled model: Loss: {:.2f}, Accuracy: {:.2f}, F1 Score: {:.2f}\".format(loss_over, accuracy_over, f1_score_over))\n",
    "print(\"Under-sampled model: Loss: {:.2f}, Accuracy: {:.2f}, F1 Score: {:.2f}\".format(loss_under, accuracy_under, f1_score_under))\n",
    "\n",
    "y_true = np.argmax(data_y, axis=1)\n",
    "\n",
    "y_pred_over = model_over.predict(data_x)\n",
    "y_pred_over = np.argmax(y_pred_over, axis=1)\n",
    "\n",
    "print(f1_score(y_true, y_pred_over, average='macro'))\n",
    "\n",
    "# plot confusion matrix\n",
    "\n",
    "cm_over = confusion_matrix(y_true, y_pred_over)\n",
    "disp = ConfusionMatrixDisplay(confusion_matrix=cm_over)\n",
    "disp.plot()\n",
    "plt.show()\n",
    "\n",
    "y_pred_under = model_under.predict(data_x)\n",
    "y_pred_under = np.argmax(y_pred_under, axis=1)\n",
    "\n",
    "cm_under = confusion_matrix(y_true, y_pred_under)\n",
    "disp = ConfusionMatrixDisplay(confusion_matrix=cm_under)\n",
    "disp.plot()\n",
    "plt.show()"
   ]
  },
  {
   "cell_type": "code",
   "execution_count": null,
   "metadata": {},
   "outputs": [],
   "source": [
    "# model_over.save('model_over_90.h5')\n",
    "# model_under.save('model_under_88.h5')\n",
    "\n",
    "model_91 = load_model('model_over_91.h5', custom_objects={'f1_m': f1_m})"
   ]
  },
  {
   "cell_type": "code",
   "execution_count": null,
   "metadata": {},
   "outputs": [],
   "source": [
    "validation_loss_over, validation_accuracy_over, f1_score_over = model_91.evaluate(x_validation, y_validation, verbose=0)\n",
    "\n",
    "print(\"Over-sampled data: Validation loss: {:.2f}, Validation accuracy: {:.2f}, F1 Score: {:.2f}\".format(validation_loss_over, validation_accuracy_over, f1_score_over))\n",
    "\n",
    "loss_over, accuracy_over, f1_score_over = model_91.evaluate(data_x, data_y, verbose=0)\n",
    "\n",
    "print(\"Over-sampled model: Loss: {:.2f}, Accuracy: {:.2f}, F1 Score: {:.2f}\".format(loss_over, accuracy_over, f1_score_over))\n",
    "\n",
    "y_true = np.argmax(y_validation, axis=1)\n",
    "\n",
    "y_pred_over = model_91.predict(x_validation)\n",
    "y_pred_over = np.argmax(y_pred_over, axis=1)\n",
    "\n",
    "print(f1_score(y_true, y_pred_over, average='macro'))\n",
    "\n",
    "y_true = np.argmax(data_y, axis=1)\n",
    "\n",
    "y_pred_over = model_91.predict(data_x)\n",
    "y_pred_over = np.argmax(y_pred_over, axis=1)\n",
    "\n",
    "print(f1_score(y_true, y_pred_over, average='macro'))\n",
    "\n",
    "# plot confusion matrix\n",
    "\n",
    "cm_over = confusion_matrix(y_true, y_pred_over)\n",
    "disp = ConfusionMatrixDisplay(confusion_matrix=cm_over)\n",
    "disp.plot()\n",
    "plt.show()"
   ]
  },
  {
   "cell_type": "code",
   "execution_count": null,
   "metadata": {},
   "outputs": [],
   "source": [
    "X_test = np.load('Xtest_Classification1.npy')\n",
    "\n",
    "X_test = X_test.reshape(X_test.shape[0], 30, 30, 3)\n",
    "X_test = rgb2gray(X_test)\n",
    "X_test = X_test.reshape(X_test.shape[0], 30, 30, 1)\n",
    "\n",
    "X_test = X_test.astype('float32')\n",
    "X_test /= 255\n",
    "\n",
    "y_pred = model_91.predict(X_test)\n",
    "y_pred = np.argmax(y_pred, axis=1)\n",
    "\n",
    "np.save('YPredict_Classification1.npy', y_pred)"
   ]
  }
 ],
 "metadata": {
  "kernelspec": {
   "display_name": "Python 3.9.13 64-bit (microsoft store)",
   "language": "python",
   "name": "python3"
  },
  "language_info": {
   "codemirror_mode": {
    "name": "ipython",
    "version": 3
   },
   "file_extension": ".py",
   "mimetype": "text/x-python",
   "name": "python",
   "nbconvert_exporter": "python",
   "pygments_lexer": "ipython3",
   "version": "3.9.13"
  },
  "orig_nbformat": 4,
  "vscode": {
   "interpreter": {
    "hash": "e163cd16c5ae68ad1786b1f1cf34fea39749fa5d2f5cdb11b88c605e3d965f70"
   }
  }
 },
 "nbformat": 4,
 "nbformat_minor": 2
}
