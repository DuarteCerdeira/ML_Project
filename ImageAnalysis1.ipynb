{
 "cells": [
  {
   "cell_type": "markdown",
   "metadata": {},
   "source": [
    "##### Imports"
   ]
  },
  {
   "cell_type": "code",
   "execution_count": null,
   "metadata": {},
   "outputs": [],
   "source": [
    "import numpy as np\n",
    "import keras\n",
    "from matplotlib import pyplot as plt\n",
    "from sklearn.model_selection import train_test_split\n",
    "from sklearn.metrics import f1_score\n",
    "from imblearn.over_sampling import RandomOverSampler, SMOTE\n",
    "from imblearn.under_sampling import RandomUnderSampler\n",
    "from keras.utils import to_categorical\n",
    "from keras.models import Sequential\n",
    "from keras import layers\n",
    "from keras.layers import Dense, Conv2D, Flatten, Dropout, MaxPooling2D"
   ]
  },
  {
   "cell_type": "markdown",
   "metadata": {},
   "source": [
    "#### Image visualization"
   ]
  },
  {
   "cell_type": "code",
   "execution_count": null,
   "metadata": {},
   "outputs": [],
   "source": [
    "def showImages(images, labels, offset=0):\n",
    "    class_names = ['Spots', 'Eyespots']\n",
    "\n",
    "    fig = plt.figure(figsize=(10, 10))\n",
    "    for i in range(30):\n",
    "        plt.subplot(6, 5, i+1)\n",
    "        plt.xticks([])\n",
    "        plt.yticks([])\n",
    "        plt.grid(False)\n",
    "        plt.imshow(images[i + offset])\n",
    "        plt.xlabel(class_names[labels[i+offset]])\n",
    "\n",
    "    fig.patch.set_facecolor('w')\n",
    "    plt.show()"
   ]
  },
  {
   "cell_type": "markdown",
   "metadata": {},
   "source": [
    "### Loading data"
   ]
  },
  {
   "cell_type": "code",
   "execution_count": null,
   "metadata": {},
   "outputs": [],
   "source": [
    "X_train = np.load('Xtrain_Classification1.npy')\n",
    "y_train = np.load('ytrain_Classification1.npy')\n",
    "\n",
    "print(f\"Data X: {X_train.shape[0]} images of shape: {X_train.shape[1:]}\")\n",
    "\n",
    "# Number of spots\n",
    "print(f\"Number of spots: {np.sum(y_train)}\")\n",
    "\n",
    "# Number of eyespots\n",
    "print(f\"Number of eyespots: {y_train.shape[0] - np.sum(y_train)}\")\n",
    "\n",
    "# Split the data into training and test sets\n",
    "\n",
    "x_train, x_validation, y_train, y_validation = train_test_split(X_train, y_train, test_size=0.2, random_state=42)"
   ]
  },
  {
   "cell_type": "markdown",
   "metadata": {},
   "source": [
    "### Dealing with imbalanced data"
   ]
  },
  {
   "cell_type": "code",
   "execution_count": null,
   "metadata": {},
   "outputs": [],
   "source": [
    "# Random oversampling\n",
    "\n",
    "ros = SMOTE(sampling_strategy='minority', random_state=42)\n",
    "x_train_over, y_train_over = ros.fit_resample(x_train, y_train)\n",
    "\n",
    "print(\"\\nOver-sampled data:\")\n",
    "print(f\"Data X: {x_train_over.shape[0]} images of shape: {x_train.shape[1:]}\")\n",
    "\n",
    "# Number of spots\n",
    "print(f\"Number of spots: {np.sum(y_train_over)}\")\n",
    "\n",
    "# Number of eyespots\n",
    "print(f\"Number of eyespots: {y_train_over.shape[0] - np.sum(y_train_over)}\")\n",
    "\n",
    "# Random undersampling\n",
    "\n",
    "rus = RandomUnderSampler(sampling_strategy='majority', random_state=42)\n",
    "x_train_under, y_train_under = rus.fit_resample(x_train, y_train)\n",
    "\n",
    "print(\"\\nUnder-sampled data:\")\n",
    "print(f\"Data X: {x_train_under.shape[0]} images of shape: {x_train.shape[1:]}\")\n",
    "\n",
    "# Number of spots\n",
    "print(f\"Number of spots: {np.sum(y_train_under)}\")\n",
    "\n",
    "# Number of eyespots\n",
    "print(f\"Number of eyespots: {y_train_under.shape[0] - np.sum(y_train_under)}\")\n"
   ]
  },
  {
   "cell_type": "markdown",
   "metadata": {},
   "source": [
    "### Preprocessing"
   ]
  },
  {
   "cell_type": "code",
   "execution_count": null,
   "metadata": {},
   "outputs": [],
   "source": [
    "# Reshaping to 30x30x3 for 30x30 RGB images\n",
    "\n",
    "x_train_over = x_train_over.reshape(x_train_over.shape[0], 30, 30, 3)\n",
    "x_train_under = x_train_under.reshape(x_train_under.shape[0], 30, 30, 3)\n",
    "\n",
    "x_validation = x_validation.reshape(x_validation.shape[0], 30, 30, 3)\n",
    "\n",
    "print(\"\\nOver-sampled data:\")\n",
    "print(f\"Training set: {x_train_over.shape[0]} images of shape: {x_train_over.shape[1:]}\")\n",
    "\n",
    "print(\"\\nUnder-sampled data:\")\n",
    "print(f\"Training set: {x_train_under.shape[0]} images of shape: {x_train_under.shape[1:]}\")\n",
    "\n",
    "print(f\"Validation set: {x_validation.shape[0]} images of shape: {x_validation.shape[1:]}\")\n",
    "\n",
    "# Checking classifcation of images\n",
    "\n",
    "showImages(x_train_over, y_train_over, 0)\n",
    "showImages(x_train_under, y_train_under, 0)\n",
    "\n",
    "# Normalizing the data\n",
    "# Making sure that values are float\n",
    "\n",
    "x_train_over = x_train_over.astype('float32')\n",
    "x_train_under = x_train_under.astype('float32')\n",
    "\n",
    "x_validation = x_validation.astype('float32')\n",
    "\n",
    "# Normalizing the RGB codes by dividing it to the max RGB value\n",
    "\n",
    "x_train_over = x_train_over / 255\n",
    "x_train_under = x_train_under / 255\n",
    "\n",
    "x_validation = x_validation / 255\n"
   ]
  },
  {
   "cell_type": "code",
   "execution_count": null,
   "metadata": {},
   "outputs": [],
   "source": [
    "# One-hot encoding\n",
    "\n",
    "y_train_over = to_categorical(y_train_over)\n",
    "y_train_under = to_categorical(y_train_under)\n",
    "\n",
    "y_validation = to_categorical(y_validation)\n",
    "\n",
    "# check amount of data in each class\n",
    "\n",
    "print(\"\\nOver-sampled data:\")\n",
    "print(f\"Spots: {np.sum(y_train_over[:, 0])}\")\n",
    "print(f\"Eyespots: {np.sum(y_train_over[:, 1])}\")\n",
    "\n",
    "print(\"\\nUnder-sampled data:\")\n",
    "print(f\"Spots: {np.sum(y_train_under[:, 0])}\")\n",
    "print(f\"Eyespots: {np.sum(y_train_under[:, 1])}\")"
   ]
  },
  {
   "cell_type": "markdown",
   "metadata": {},
   "source": [
    "# Image analysis"
   ]
  },
  {
   "cell_type": "markdown",
   "metadata": {},
   "source": [
    "## CNN"
   ]
  },
  {
   "cell_type": "code",
   "execution_count": null,
   "metadata": {},
   "outputs": [],
   "source": [
    "batch_size = 256\n",
    "epochs = 15\n",
    "num_classes = 2\n",
    "input_shape = (30, 30, 3)"
   ]
  },
  {
   "cell_type": "markdown",
   "metadata": {},
   "source": [
    "### Model Construction"
   ]
  },
  {
   "cell_type": "markdown",
   "metadata": {},
   "source": [
    "#### Image Augmentation layer"
   ]
  },
  {
   "cell_type": "code",
   "execution_count": null,
   "metadata": {},
   "outputs": [],
   "source": [
    "data_augmentation = Sequential([\n",
    "    layers.RandomFlip(\"horizontal_and_vertical\", input_shape=input_shape),\n",
    "    layers.RandomRotation(0.2)\n",
    "])"
   ]
  },
  {
   "cell_type": "markdown",
   "metadata": {},
   "source": [
    "#### Convolutional and Pooling Layers"
   ]
  },
  {
   "cell_type": "code",
   "execution_count": null,
   "metadata": {},
   "outputs": [],
   "source": [
    "model_over = Sequential()\n",
    "model_under = Sequential()\n",
    "\n",
    "# model_over.add(data_augmentation)\n",
    "# model_under.add(data_augmentation)\n",
    "\n",
    "model_over.add(Conv2D(32, kernel_size=(3, 3), activation='relu', input_shape=input_shape))\n",
    "model_under.add(Conv2D(32, kernel_size=(3, 3), activation='relu', input_shape=input_shape))\n",
    "model_over.add(MaxPooling2D(pool_size=(2, 2)))\n",
    "model_under.add(MaxPooling2D(pool_size=(2, 2)))\n",
    "\n",
    "model_over.add(Conv2D(64, kernel_size=(3, 3), activation='relu'))\n",
    "model_under.add(Conv2D(64, kernel_size=(3, 3), activation='relu'))\n",
    "model_over.add(MaxPooling2D(pool_size=(2, 2)))\n",
    "model_under.add(MaxPooling2D(pool_size=(2, 2)))"
   ]
  },
  {
   "cell_type": "markdown",
   "metadata": {},
   "source": [
    "#### Fully Connected Layers"
   ]
  },
  {
   "cell_type": "code",
   "execution_count": null,
   "metadata": {},
   "outputs": [],
   "source": [
    "model_over.add(Flatten())\n",
    "model_under.add(Flatten())\n",
    "model_over.add(Dense(64, activation='relu'))\n",
    "model_under.add(Dense(64, activation='relu'))\n",
    "model_over.add(Dropout(0.1))\n",
    "model_under.add(Dropout(0.1))\n",
    "\n",
    "model_over.add(Dense(64, activation='relu'))\n",
    "model_under.add(Dense(64, activation='relu'))\n",
    "model_over.add(Dropout(0.3))\n",
    "model_under.add(Dropout(0.3))\n",
    "\n",
    "model_over.add(Dense(32, activation='relu'))\n",
    "model_under.add(Dense(32, activation='relu'))\n",
    "model_over.add(Dropout(0.5))\n",
    "model_under.add(Dropout(0.5))\n",
    "\n",
    "model_over.add(Dense(num_classes, activation='softmax'))\n",
    "model_under.add(Dense(num_classes, activation='softmax'))\n",
    "\n",
    "model_over.summary()\n",
    "model_under.summary()"
   ]
  },
  {
   "cell_type": "markdown",
   "metadata": {},
   "source": [
    "#### Compile the Model"
   ]
  },
  {
   "cell_type": "code",
   "execution_count": null,
   "metadata": {},
   "outputs": [],
   "source": [
    "model_over.compile(loss=keras.losses.categorical_crossentropy, optimizer='adam', metrics=['accuracy'])\n",
    "model_under.compile(loss=keras.losses.categorical_crossentropy, optimizer='adam', metrics=['accuracy'])"
   ]
  },
  {
   "cell_type": "markdown",
   "metadata": {},
   "source": [
    "#### Train the Model"
   ]
  },
  {
   "cell_type": "code",
   "execution_count": null,
   "metadata": {},
   "outputs": [],
   "source": [
    "history_over = model_over.fit(x_train_over, y_train_over, batch_size=batch_size, epochs=epochs, verbose=1, validation_data=(x_validation, y_validation))\n",
    "history_under = model_under.fit(x_train_under, y_train_under, batch_size=batch_size, epochs=epochs, verbose=1, validation_data=(x_validation, y_validation))"
   ]
  },
  {
   "cell_type": "markdown",
   "metadata": {},
   "source": [
    "## Visualize the Results"
   ]
  },
  {
   "cell_type": "code",
   "execution_count": null,
   "metadata": {},
   "outputs": [],
   "source": [
    "# F1 score\n",
    "\n",
    "y_pred_over = model_over.predict(x_validation)\n",
    "y_pred_over = np.argmax(y_pred_over, axis=1)\n",
    "y_true_over = np.argmax(y_validation, axis=1)\n",
    "\n",
    "y_pred_under = model_under.predict(x_validation)\n",
    "y_pred_under = np.argmax(y_pred_under, axis=1)\n",
    "y_true_under = np.argmax(y_validation, axis=1)\n",
    "\n",
    "print(\"F1 score over-sampled data: \", f1_score(y_true_over, y_pred_over))\n",
    "print(\"F1 score under-sampled data: \", f1_score(y_true_under, y_pred_under))\n",
    "\n",
    "plt.figure(figsize=(10, 10))\n",
    "\n",
    "plt.subplot(1, 2, 1)\n",
    "plt.title('Over-sampled data')\n",
    "plt.plot(history_over.history['accuracy'], label='Training accuracy')\n",
    "plt.plot(history_over.history['loss'], label='Training loss')\n",
    "plt.plot(history_over.history['val_accuracy'], label='Validation accuracy')\n",
    "plt.plot(history_over.history['val_loss'], label='Validation loss')\n",
    "plt.xlabel('Epoch')\n",
    "plt.legend(loc='best')\n",
    "\n",
    "plt.subplot(1, 2, 2)\n",
    "plt.title('Under-sampled data')\n",
    "plt.plot(history_under.history['accuracy'], label='Training accuracy')\n",
    "plt.plot(history_under.history['loss'], label='Training loss')\n",
    "plt.plot(history_under.history['val_accuracy'], label='Validation accuracy')\n",
    "plt.plot(history_under.history['val_loss'], label='Validation loss')\n",
    "plt.xlabel('Epoch')\n",
    "plt.legend(loc='best')\n",
    "\n",
    "validation_loss_over, validation_accuracy_over = model_over.evaluate(x_validation, y_validation, verbose=0)\n",
    "validation_loss_under, validation_accuracy_under = model_under.evaluate(x_validation, y_validation, verbose=0)\n",
    "\n",
    "print(\"Over-sampled data: Validation loss: {:.2f}, Validation accuracy: {:.2f}\".format(validation_loss_over, validation_accuracy_over))\n",
    "print(\"Under-sampled data: Validation loss: {:.2f}, Validation accuracy: {:.2f}\".format(validation_loss_under, validation_accuracy_under))"
   ]
  },
  {
   "cell_type": "markdown",
   "metadata": {},
   "source": [
    "## Evaluate the Model"
   ]
  },
  {
   "cell_type": "code",
   "execution_count": null,
   "metadata": {},
   "outputs": [],
   "source": [
    "score = model_over.evaluate(x_validation, y_validation, verbose=0)\n",
    "print('Test loss:', score[0])\n",
    "print('Test accuracy:', score[1])"
   ]
  },
  {
   "cell_type": "code",
   "execution_count": null,
   "metadata": {},
   "outputs": [],
   "source": [
    "predictions = model_over.predict(x_validation)\n",
    "\n",
    "showImages(x_validation, predictions.argmax(axis=1), 0)"
   ]
  }
 ],
 "metadata": {
  "kernelspec": {
   "display_name": "Python 3.9.13 64-bit (microsoft store)",
   "language": "python",
   "name": "python3"
  },
  "language_info": {
   "codemirror_mode": {
    "name": "ipython",
    "version": 3
   },
   "file_extension": ".py",
   "mimetype": "text/x-python",
   "name": "python",
   "nbconvert_exporter": "python",
   "pygments_lexer": "ipython3",
   "version": "3.9.13"
  },
  "orig_nbformat": 4,
  "vscode": {
   "interpreter": {
    "hash": "e163cd16c5ae68ad1786b1f1cf34fea39749fa5d2f5cdb11b88c605e3d965f70"
   }
  }
 },
 "nbformat": 4,
 "nbformat_minor": 2
}
