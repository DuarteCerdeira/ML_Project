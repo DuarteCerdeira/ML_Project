{
 "cells": [
  {
   "cell_type": "code",
   "execution_count": 34,
   "metadata": {},
   "outputs": [
    {
     "name": "stderr",
     "output_type": "stream",
     "text": [
      "Clipping input data to the valid range for imshow with RGB data ([0..1] for floats or [0..255] for integers).\n"
     ]
    },
    {
     "name": "stdout",
     "output_type": "stream",
     "text": [
      "(50700, 75)\n"
     ]
    },
    {
     "data": {
      "text/plain": [
       "<matplotlib.image.AxesImage at 0x292e77197c0>"
      ]
     },
     "execution_count": 34,
     "metadata": {},
     "output_type": "execute_result"
    },
    {
     "data": {
      "image/png": "[encoded data removed]",
      "text/plain": [
       "<Figure size 640x480 with 1 Axes>"
      ]
     },
     "metadata": {},
     "output_type": "display_data"
    }
   ],
   "source": [
    "import numpy as np\n",
    "from sklearn.model_selection import train_test_split\n",
    "from sklearn.datasets import load_sample_image\n",
    "from sklearn.feature_extraction import image\n",
    "from sklearn.svm import SVC\n",
    "from sklearn.metrics import balanced_accuracy_score\n",
    "import matplotlib.pyplot as plt\n",
    "\n",
    "Xtrain = np.load('Xtrain_Classification2.npy')\n",
    "Ytrain = np.load('Ytrain_Classification2.npy')\n",
    "\n",
    "print(Xtrain.shape)\n",
    "\n",
    "# Xtrain = Xtrain.reshape(75, 676, 5, 5, 3)\n",
    "# Ytrain = Ytrain.reshape(75, 676)\n",
    "\n",
    "x_train, x_test, y_train, y_test = train_test_split(Xtrain, Ytrain, test_size=0.2, random_state=42)\n",
    "\n",
    "# Reconstruct an image from the patches"
   ]
  },
  {
   "cell_type": "code",
   "execution_count": null,
   "metadata": {},
   "outputs": [],
   "source": []
  },
  {
   "cell_type": "code",
   "execution_count": 16,
   "metadata": {},
   "outputs": [
    {
     "name": "stdout",
     "output_type": "stream",
     "text": [
      "0.8767258382642998\n"
     ]
    }
   ],
   "source": [
    "# x_train = x_train.reshape(60, 676, 75)\n",
    "# x_test = x_test.reshape(15, 676, 75)\n",
    "\n",
    "model = SVC()\n",
    "model.fit(x_train, y_train)\n"
   ]
  },
  {
   "cell_type": "code",
   "execution_count": 19,
   "metadata": {},
   "outputs": [
    {
     "name": "stdout",
     "output_type": "stream",
     "text": [
      "0.7489631306499055\n"
     ]
    }
   ],
   "source": [
    "print(balanced_accuracy_score(y_test, model.predict(x_test)))"
   ]
  },
  {
   "cell_type": "code",
   "execution_count": 25,
   "metadata": {},
   "outputs": [
    {
     "ename": "ValueError",
     "evalue": "cannot reshape array of size 10140 into shape (30,30,75)",
     "output_type": "error",
     "traceback": [
      "\u001b[1;31m---------------------------------------------------------------------------\u001b[0m",
      "\u001b[1;31mValueError\u001b[0m                                Traceback (most recent call last)",
      "Cell \u001b[1;32mIn [25], line 3\u001b[0m\n\u001b[0;32m      1\u001b[0m \u001b[39m# Reconstruct the picture from the data\u001b[39;00m\n\u001b[1;32m----> 3\u001b[0m reconstructed \u001b[39m=\u001b[39m image\u001b[39m.\u001b[39mreconstruct_from_patches_2d(y_test\u001b[39m.\u001b[39mreshape((\u001b[39m30\u001b[39m, \u001b[39m30\u001b[39m, \u001b[39m75\u001b[39m))[:,:,\u001b[39m0\u001b[39m], (\u001b[39m30\u001b[39m, \u001b[39m30\u001b[39m))\n",
      "\u001b[1;31mValueError\u001b[0m: cannot reshape array of size 10140 into shape (30,30,75)"
     ]
    }
   ],
   "source": [
    "# Reconstruct the picture from the data\n",
    "\n",
    "reconstructed = image.reconstruct_from_patches_2d"
   ]
  }
 ],
 "metadata": {
  "kernelspec": {
   "display_name": "Python 3.9.13 64-bit (microsoft store)",
   "language": "python",
   "name": "python3"
  },
  "language_info": {
   "codemirror_mode": {
    "name": "ipython",
    "version": 3
   },
   "file_extension": ".py",
   "mimetype": "text/x-python",
   "name": "python",
   "nbconvert_exporter": "python",
   "pygments_lexer": "ipython3",
   "version": "3.9.13"
  },
  "orig_nbformat": 4,
  "vscode": {
   "interpreter": {
    "hash": "e163cd16c5ae68ad1786b1f1cf34fea39749fa5d2f5cdb11b88c605e3d965f70"
   }
  }
 },
 "nbformat": 4,
 "nbformat_minor": 2
}
