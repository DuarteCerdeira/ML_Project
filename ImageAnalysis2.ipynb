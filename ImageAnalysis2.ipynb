{
 "cells": [
  {
   "cell_type": "code",
   "execution_count": 2,
   "metadata": {},
   "outputs": [],
   "source": [
    "import numpy as np\n",
    "import matplotlib.pyplot as plt\n",
    "import pickle\n",
    "\n",
    "from sklearn.model_selection import train_test_split\n",
    "from sklearn.datasets import load_sample_image\n",
    "from sklearn.feature_extraction.image import reconstruct_from_patches_2d\n",
    "from sklearn.metrics import balanced_accuracy_score\n",
    "from skimage.color import rgb2gray\n",
    "from sklearn.model_selection import GridSearchCV\n",
    "from imblearn.over_sampling import RandomOverSampler\n",
    "\n",
    "from sklearn.svm import SVC\n",
    "from sklearn.tree import DecisionTreeClassifier\n",
    "from sklearn.ensemble import RandomForestClassifier\n",
    "from sklearn.neighbors import KNeighborsClassifier\n"
   ]
  },
  {
   "cell_type": "code",
   "execution_count": 3,
   "metadata": {},
   "outputs": [
    {
     "name": "stdout",
     "output_type": "stream",
     "text": [
      "(50700, 75)\n",
      "(50700,)\n",
      "(40560, 75)\n",
      "(40560,)\n",
      "Class 0:  1248\n",
      "Class 1:  32327\n",
      "Class 2:  6985\n"
     ]
    },
    {
     "data": {
      "image/png": "[encoded data removed]",
      "text/plain": [
       "<Figure size 640x480 with 25 Axes>"
      ]
     },
     "metadata": {},
     "output_type": "display_data"
    }
   ],
   "source": [
    "Xtrain = np.load('Xtrain_Classification2.npy')\n",
    "Ytrain = np.load('Ytrain_Classification2.npy')\n",
    "\n",
    "print(Xtrain.shape)\n",
    "print(Ytrain.shape)\n",
    "\n",
    "# Convert to grayscale\n",
    "\n",
    "# Xtrain = Xtrain.reshape(75, 676, 5, 5, 3)\n",
    "\n",
    "# Xtrain = rgb2gray(Xtrain)\n",
    "\n",
    "# Xtrain = Xtrain.reshape(50700, 25)\n",
    "\n",
    "x_train, x_test, y_train, y_test = train_test_split(Xtrain, Ytrain, test_size=0.2, random_state=42)\n",
    "\n",
    "print(x_train.shape)\n",
    "print(y_train.shape)\n",
    "\n",
    "# Count the number of each class\n",
    "\n",
    "class_0 = np.sum(np.where(y_train == 0, 1, 0))\n",
    "class_1 = np.sum(np.where(y_train == 1, 1, 0))\n",
    "class_2 = np.sum(np.where(y_train == 2, 1, 0))\n",
    "print('Class 0: ', class_0)\n",
    "print('Class 1: ', class_1)\n",
    "print('Class 2: ', class_2)\n",
    "\n",
    "# Show some images\n",
    "\n",
    "for i in range(25):\n",
    "    plt.subplot(5, 5, i+1)\n",
    "    plt.imshow(x_train[i].reshape(5, 5, 3))\n",
    "    plt.title(y_train[i])\n",
    "    plt.axis('off')\n"
   ]
  },
  {
   "cell_type": "code",
   "execution_count": 4,
   "metadata": {},
   "outputs": [
    {
     "name": "stdout",
     "output_type": "stream",
     "text": [
      "Class 0:  32327\n",
      "Class 1:  32327\n",
      "Class 2:  32327\n"
     ]
    }
   ],
   "source": [
    "# Random over-sampling\n",
    "\n",
    "ros = RandomOverSampler(random_state=42)\n",
    "x_train, y_train = ros.fit_resample(x_train, y_train)\n",
    "\n",
    "class_0 = np.sum(np.where(y_train == 0, 1, 0))\n",
    "class_1 = np.sum(np.where(y_train == 1, 1, 0))\n",
    "class_2 = np.sum(np.where(y_train == 2, 1, 0))\n",
    "print('Class 0: ', class_0)\n",
    "print('Class 1: ', class_1)\n",
    "print('Class 2: ', class_2)\n"
   ]
  },
  {
   "cell_type": "code",
   "execution_count": 5,
   "metadata": {},
   "outputs": [],
   "source": [
    "# Normalize the data\n",
    "\n",
    "x_train = x_train.astype('float32')\n",
    "x_test = x_test.astype('float32')\n",
    "\n",
    "x_train = x_train / 255\n",
    "x_test = x_test / 255"
   ]
  },
  {
   "cell_type": "code",
   "execution_count": 21,
   "metadata": {},
   "outputs": [
    {
     "name": "stdout",
     "output_type": "stream",
     "text": [
      "0.8868231921716624\n",
      "0.8796475024604368\n"
     ]
    }
   ],
   "source": [
    "svc = SVC(class_weight='balanced', cache_size=2000, C=0.7, shrinking=True)\n",
    "svc.fit(x_train, y_train)\n",
    "\n",
    "print(balanced_accuracy_score(y_train, svc.predict(x_train)))\n",
    "print(balanced_accuracy_score(y_test, svc.predict(x_test)))"
   ]
  },
  {
   "cell_type": "code",
   "execution_count": 11,
   "metadata": {},
   "outputs": [
    {
     "name": "stdout",
     "output_type": "stream",
     "text": [
      "Fitting 5 folds for each of 10 candidates, totalling 50 fits\n",
      "0.9406687907940731\n",
      "0.8350241709638192\n"
     ]
    }
   ],
   "source": [
    "tree = DecisionTreeClassifier(class_weight='balanced', ccp_alpha=0.0002)\n",
    "\n",
    "ccp_alphas = np.linspace(0.0001, 0.0005, 10)\n",
    "best_tree = GridSearchCV(tree, param_grid={'ccp_alpha': ccp_alphas}, cv=5, scoring='balanced_accuracy', n_jobs=-1, verbose=2)\n",
    "best_tree.fit(x_train, y_train)\n",
    "\n",
    "print(balanced_accuracy_score(y_train, best_tree.predict(x_train)))\n",
    "print(balanced_accuracy_score(y_test, best_tree.predict(x_test)))"
   ]
  },
  {
   "cell_type": "code",
   "execution_count": 6,
   "metadata": {},
   "outputs": [
    {
     "name": "stdout",
     "output_type": "stream",
     "text": [
      "Fitting 5 folds for each of 10 candidates, totalling 50 fits\n",
      "0.9600024747115414\n",
      "0.8883743433524995\n"
     ]
    }
   ],
   "source": [
    "forest = RandomForestClassifier(class_weight='balanced', n_estimators=100)\n",
    "\n",
    "ccp_alphas = np.linspace(0.0001, 0.0005, 10)\n",
    "best_forest = GridSearchCV(forest, {'ccp_alpha': ccp_alphas}, cv=5, scoring='balanced_accuracy', n_jobs=-1, verbose=2)\n",
    "best_forest.fit(x_train, y_train)\n",
    "\n",
    "print(balanced_accuracy_score(y_train, best_forest.predict(x_train)))\n",
    "print(balanced_accuracy_score(y_test, best_forest.predict(x_test)))"
   ]
  },
  {
   "cell_type": "code",
   "execution_count": 7,
   "metadata": {},
   "outputs": [
    {
     "name": "stdout",
     "output_type": "stream",
     "text": [
      "{'ccp_alpha': 0.0001}\n"
     ]
    }
   ],
   "source": [
    "print(best_forest.best_params_)"
   ]
  },
  {
   "cell_type": "code",
   "execution_count": 6,
   "metadata": {},
   "outputs": [
    {
     "name": "stdout",
     "output_type": "stream",
     "text": [
      "1.0\n",
      "0.9093748360289986\n"
     ]
    }
   ],
   "source": [
    "kneighbours = KNeighborsClassifier(n_neighbors=3, weights='distance')\n",
    "kneighbours.fit(x_train, y_train)\n",
    "\n",
    "print(balanced_accuracy_score(y_train, kneighbours.predict(x_train)))\n",
    "print(balanced_accuracy_score(y_test, kneighbours.predict(x_test)))"
   ]
  },
  {
   "cell_type": "code",
   "execution_count": 13,
   "metadata": {},
   "outputs": [],
   "source": [
    "# Save the model\n",
    "\n",
    "# pickle.dump(kneighbours, open('kneighbours_score_0909.sav', 'wb'))"
   ]
  }
 ],
 "metadata": {
  "kernelspec": {
   "display_name": "Python 3.9.13 64-bit (microsoft store)",
   "language": "python",
   "name": "python3"
  },
  "language_info": {
   "codemirror_mode": {
    "name": "ipython",
    "version": 3
   },
   "file_extension": ".py",
   "mimetype": "text/x-python",
   "name": "python",
   "nbconvert_exporter": "python",
   "pygments_lexer": "ipython3",
   "version": "3.9.13"
  },
  "orig_nbformat": 4,
  "vscode": {
   "interpreter": {
    "hash": "e163cd16c5ae68ad1786b1f1cf34fea39749fa5d2f5cdb11b88c605e3d965f70"
   }
  }
 },
 "nbformat": 4,
 "nbformat_minor": 2
}
