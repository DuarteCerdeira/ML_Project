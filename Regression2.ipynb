{
 "cells": [
  {
   "cell_type": "markdown",
   "metadata": {},
   "source": [
    "Imports"
   ]
  },
  {
   "cell_type": "code",
   "execution_count": 38,
   "metadata": {},
   "outputs": [],
   "source": [
    "import numpy as np\n",
    "from sklearn.linear_model import LassoCV, RANSACRegressor, Lasso, TheilSenRegressor\n",
    "from sklearn.model_selection import cross_val_score, train_test_split\n",
    "import matplotlib.pyplot as plt"
   ]
  },
  {
   "cell_type": "code",
   "execution_count": 39,
   "metadata": {},
   "outputs": [],
   "source": [
    "def sum_squared_errors(estimator, X, y):\n",
    "    return np.sum((np.reshape(estimator.predict(X), (y.shape)) - y) ** 2)"
   ]
  },
  {
   "cell_type": "code",
   "execution_count": 40,
   "metadata": {},
   "outputs": [],
   "source": [
    "def mean_squared_errors(estimator, X, y):\n",
    "    return np.mean((np.reshape(estimator.predict(X), (y.shape)) - y) ** 2)"
   ]
  },
  {
   "cell_type": "markdown",
   "metadata": {},
   "source": [
    "Load data"
   ]
  },
  {
   "cell_type": "code",
   "execution_count": 41,
   "metadata": {},
   "outputs": [],
   "source": [
    "data_x = np.load('Xtrain_Regression2.npy')\n",
    "data_y = np.load('Ytrain_Regression2.npy')"
   ]
  },
  {
   "cell_type": "markdown",
   "metadata": {},
   "source": [
    "Fit a linear regression model using all the data"
   ]
  },
  {
   "cell_type": "code",
   "execution_count": 42,
   "metadata": {},
   "outputs": [
    {
     "name": "stdout",
     "output_type": "stream",
     "text": [
      "0.17950930279330035\n",
      "0.20824558947660365\n"
     ]
    }
   ],
   "source": [
    "folds = 10\n",
    "\n",
    "lasso = LassoCV(cv=folds).fit(data_x, data_y.ravel())\n",
    "\n",
    "print(lasso.alpha_)\n",
    "print(lasso.score(data_x, data_y))"
   ]
  },
  {
   "cell_type": "markdown",
   "metadata": {},
   "source": [
    "### Finding outliers"
   ]
  },
  {
   "cell_type": "markdown",
   "metadata": {},
   "source": [
    "Z values"
   ]
  },
  {
   "cell_type": "code",
   "execution_count": 43,
   "metadata": {},
   "outputs": [],
   "source": [
    "x_means = data_x.mean(axis=0)\n",
    "x_stds = data_x.std(axis=0)\n",
    "y_mean = data_y.mean(axis=0)\n",
    "y_std = data_y.std(axis=0)\n",
    "\n",
    "x_z_scores = (data_x - x_means) / x_stds\n",
    "y_z_scores = (data_y - y_mean) / y_std\n",
    "\n",
    "x_outliers = data_x[np.abs(x_z_scores) > 2]\n",
    "y_outliers = data_y[np.abs(y_z_scores) > 2]"
   ]
  },
  {
   "cell_type": "code",
   "execution_count": 44,
   "metadata": {},
   "outputs": [
    {
     "name": "stdout",
     "output_type": "stream",
     "text": [
      "0.9964749194384579\n",
      "best_sse=0.008683\n",
      "best_k=0.546000\n"
     ]
    }
   ],
   "source": [
    "vec=np.arange(0.5, 0.9, 0.001) \n",
    "best_cv_score=0\n",
    "for k in vec:\n",
    "    ransac = RANSACRegressor(residual_threshold= k, random_state=0).fit(data_x, data_y.ravel()) #tests the estimator with different thresholds\n",
    "    cv_score = cross_val_score(ransac, data_x[ransac.inlier_mask_], data_y.ravel()[ransac.inlier_mask_], cv=folds, scoring=\"neg_mean_squared_error\").mean() #takes the MSE into account with the CV excluding the outliers\n",
    "    if(best_cv_score<cv_score) and ransac.inlier_mask_.sum()>78: #keeps the best cv score and makes sure at least 79 inliers are inclued\n",
    "        best_k=k\n",
    "\n",
    "ransac = RANSACRegressor(residual_threshold= best_k, random_state=0).fit(data_x, data_y.ravel()) #final estimator with the optimized value\n",
    "\n",
    "\n",
    "#cv_score = cross_val_score(ransac, data_x[ransac.inlier_mask_], data_y.ravel()[ransac.inlier_mask_], cv=folds)\n",
    "   \n",
    "#sse=sum_squared_errors(ransac, data_x[ransac.inlier_mask_], data_y.ravel()[ransac.inlier_mask_])\n",
    "#model = LassoCV(cv=folds, alphas=np.arange(0.001, 1, 0.001)).fit(data_x[ransac.inlier_mask_], data_y.ravel()[ransac.inlier_mask_])\n",
    "\n",
    "#print(model.alpha_)\n",
    "#print(cross_val_score(model, data_x[ransac.inlier_mask_], data_y.ravel()[ransac.inlier_mask_], cv=folds).mean())\n",
    "#print(sum_squared_errors(model, data_x[ransac.inlier_mask_], data_y.ravel()[ransac.inlier_mask_]))\n",
    "\n",
    "\n",
    "#print(sum_squared_errors(ransac, data_x[ransac.inlier_mask_], data_y.ravel()[ransac.inlier_mask_]))\n",
    "\n",
    "#for feature in range(10):\n",
    "    #plt.figure(feature)\n",
    "   # plt.scatter(data_x[:,feature], data_y)  \n",
    "    #plt.scatter(data_x[ransac.inlier_mask_, feature], data_y[ransac.inlier_mask_], color='red')\n",
    "    #plt.plot(data_x[:, feature], data_x[:, feature] * ransac.estimator_.coef_[feature], color='red')\n",
    "   #plt.plot(data_x[:, feature], data_x[:, feature] * lasso.coef_[feature], color='green')\n",
    "  #  plt.show()"
   ]
  },
  {
   "cell_type": "code",
   "execution_count": 45,
   "metadata": {},
   "outputs": [
    {
     "name": "stdout",
     "output_type": "stream",
     "text": [
      "0.9963582182366052\n"
     ]
    }
   ],
   "source": [
    "theilsen = TheilSenRegressor(max_subpopulation=90).fit(data_x, data_y.ravel())\n",
    "cv_score = cross_val_score(theilsen, data_x[ransac.inlier_mask_], data_y.ravel()[ransac.inlier_mask_], cv=folds)\n",
    "print(cv_score.mean()) #scores negativos (?)\n"
   ]
  }
 ],
 "metadata": {
  "kernelspec": {
   "display_name": "Python 3.10.4 64-bit",
   "language": "python",
   "name": "python3"
  },
  "language_info": {
   "codemirror_mode": {
    "name": "ipython",
    "version": 3
   },
   "file_extension": ".py",
   "mimetype": "text/x-python",
   "name": "python",
   "nbconvert_exporter": "python",
   "pygments_lexer": "ipython3",
   "version": "3.10.4"
  },
  "orig_nbformat": 4,
  "vscode": {
   "interpreter": {
    "hash": "e51fdbc37c5adaa12a9ed97b50fdaf0ff46be7ee1a114cc405b6eaf0c36d1bf8"
   }
  }
 },
 "nbformat": 4,
 "nbformat_minor": 2
}
