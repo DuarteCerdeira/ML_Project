{
 "cells": [
  {
   "cell_type": "markdown",
   "metadata": {},
   "source": [
    "Imports"
   ]
  },
  {
   "cell_type": "code",
   "execution_count": 1,
   "metadata": {},
   "outputs": [],
   "source": [
    "import numpy as np\n",
    "from sklearn.linear_model import LassoCV, RANSACRegressor\n",
    "from sklearn.model_selection import cross_val_score, train_test_split\n",
    "import matplotlib.pyplot as plt"
   ]
  },
  {
   "cell_type": "markdown",
   "metadata": {},
   "source": [
    "Load data"
   ]
  },
  {
   "cell_type": "code",
   "execution_count": 2,
   "metadata": {},
   "outputs": [],
   "source": [
    "data_x = np.load('Xtrain_Regression2.npy')\n",
    "data_y = np.load('Ytrain_Regression2.npy')"
   ]
  },
  {
   "cell_type": "markdown",
   "metadata": {},
   "source": [
    "Fit a linear regression model using all the data"
   ]
  },
  {
   "cell_type": "code",
   "execution_count": 3,
   "metadata": {},
   "outputs": [
    {
     "name": "stdout",
     "output_type": "stream",
     "text": [
      "0.17950930279330035\n",
      "0.20824558947660365\n"
     ]
    }
   ],
   "source": [
    "folds = 10\n",
    "\n",
    "lasso = LassoCV(cv=folds).fit(data_x, data_y.ravel())\n",
    "\n",
    "print(lasso.alpha_)\n",
    "print(lasso.score(data_x, data_y))"
   ]
  },
  {
   "cell_type": "markdown",
   "metadata": {},
   "source": [
    "### Finding outliers"
   ]
  },
  {
   "cell_type": "markdown",
   "metadata": {},
   "source": [
    "Z values"
   ]
  },
  {
   "cell_type": "code",
   "execution_count": 13,
   "metadata": {},
   "outputs": [],
   "source": [
    "x_means = data_x.mean(axis=0)\n",
    "x_stds = data_x.std(axis=0)\n",
    "y_mean = data_y.mean(axis=0)\n",
    "y_std = data_y.std(axis=0)\n",
    "\n",
    "x_z_scores = (data_x - x_means) / x_stds\n",
    "y_z_scores = (data_y - y_mean) / y_std\n",
    "\n",
    "x_outliers = data_x[np.abs(x_z_scores) > 2]\n",
    "y_outliers = data_y[np.abs(y_z_scores) > 2]"
   ]
  },
  {
   "cell_type": "code",
   "execution_count": null,
   "metadata": {},
   "outputs": [],
   "source": [
    "ransac = RANSACRegressor().fit(data_x, data_y.ravel())\n"
   ]
  }
 ],
 "metadata": {
  "kernelspec": {
   "display_name": "Python 3.9.13 64-bit (microsoft store)",
   "language": "python",
   "name": "python3"
  },
  "language_info": {
   "codemirror_mode": {
    "name": "ipython",
    "version": 3
   },
   "file_extension": ".py",
   "mimetype": "text/x-python",
   "name": "python",
   "nbconvert_exporter": "python",
   "pygments_lexer": "ipython3",
   "version": "3.9.13"
  },
  "orig_nbformat": 4,
  "vscode": {
   "interpreter": {
    "hash": "e163cd16c5ae68ad1786b1f1cf34fea39749fa5d2f5cdb11b88c605e3d965f70"
   }
  }
 },
 "nbformat": 4,
 "nbformat_minor": 2
}
